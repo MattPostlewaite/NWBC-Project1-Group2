{
 "cells": [
  {
   "cell_type": "code",
   "execution_count": 2,
   "metadata": {},
   "outputs": [],
   "source": [
    "# Dependencies\n",
    "import matplotlib.pyplot as plt\n",
    "import requests\n",
    "from scipy import stats\n",
    "import pandas as pd\n",
    "# from config import api_key"
   ]
  },
  {
   "cell_type": "code",
   "execution_count": 4,
   "metadata": {},
   "outputs": [
    {
     "data": {
      "text/html": [
       "<div>\n",
       "<style scoped>\n",
       "    .dataframe tbody tr th:only-of-type {\n",
       "        vertical-align: middle;\n",
       "    }\n",
       "\n",
       "    .dataframe tbody tr th {\n",
       "        vertical-align: top;\n",
       "    }\n",
       "\n",
       "    .dataframe thead th {\n",
       "        text-align: right;\n",
       "    }\n",
       "</style>\n",
       "<table border=\"1\" class=\"dataframe\">\n",
       "  <thead>\n",
       "    <tr style=\"text-align: right;\">\n",
       "      <th></th>\n",
       "      <th>Zip</th>\n",
       "      <th>Student_Attendance_Year_2_Pct</th>\n",
       "      <th>College_Enrollment_School_Pct_Year_2</th>\n",
       "    </tr>\n",
       "  </thead>\n",
       "  <tbody>\n",
       "    <tr>\n",
       "      <th>0</th>\n",
       "      <td>60602</td>\n",
       "      <td>84.250000</td>\n",
       "      <td>59.250000</td>\n",
       "    </tr>\n",
       "    <tr>\n",
       "      <th>1</th>\n",
       "      <td>60605</td>\n",
       "      <td>93.800000</td>\n",
       "      <td>87.600000</td>\n",
       "    </tr>\n",
       "    <tr>\n",
       "      <th>2</th>\n",
       "      <td>60607</td>\n",
       "      <td>94.200000</td>\n",
       "      <td>72.950000</td>\n",
       "    </tr>\n",
       "    <tr>\n",
       "      <th>3</th>\n",
       "      <td>60608</td>\n",
       "      <td>83.490000</td>\n",
       "      <td>44.950000</td>\n",
       "    </tr>\n",
       "    <tr>\n",
       "      <th>4</th>\n",
       "      <td>60609</td>\n",
       "      <td>87.016667</td>\n",
       "      <td>36.516667</td>\n",
       "    </tr>\n",
       "  </tbody>\n",
       "</table>\n",
       "</div>"
      ],
      "text/plain": [
       "     Zip  Student_Attendance_Year_2_Pct  College_Enrollment_School_Pct_Year_2\n",
       "0  60602                      84.250000                             59.250000\n",
       "1  60605                      93.800000                             87.600000\n",
       "2  60607                      94.200000                             72.950000\n",
       "3  60608                      83.490000                             44.950000\n",
       "4  60609                      87.016667                             36.516667"
      ]
     },
     "execution_count": 4,
     "metadata": {},
     "output_type": "execute_result"
    }
   ],
   "source": [
    "# Import school data\n",
    "school_2015_data = \"chi_school_2015_2016.csv\"\n",
    "school_2015_df = pd.read_csv(school_2015_data)\n",
    "school_2015_df = school_2015_df[school_2015_df['Primary_Category'] == 'HS']\n",
    "school_2015_df = school_2015_df[['Zip','Student_Attendance_Year_2_Pct','College_Enrollment_School_Pct_Year_2']]\n",
    "school_2015_df = school_2015_df.dropna()\n",
    "#school_2015_df\n",
    "school_2015_group2_df = school_2015_df.groupby('Zip').mean()\n",
    "school_2015_group2_df.reset_index(inplace=True)\n",
    "school_2015_group2_df.head()"
   ]
  },
  {
   "cell_type": "code",
   "execution_count": 41,
   "metadata": {},
   "outputs": [
    {
     "data": {
      "text/html": [
       "<div>\n",
       "<style scoped>\n",
       "    .dataframe tbody tr th:only-of-type {\n",
       "        vertical-align: middle;\n",
       "    }\n",
       "\n",
       "    .dataframe tbody tr th {\n",
       "        vertical-align: top;\n",
       "    }\n",
       "\n",
       "    .dataframe thead th {\n",
       "        text-align: right;\n",
       "    }\n",
       "</style>\n",
       "<table border=\"1\" class=\"dataframe\">\n",
       "  <thead>\n",
       "    <tr style=\"text-align: right;\">\n",
       "      <th></th>\n",
       "      <th>Unnamed: 0</th>\n",
       "      <th>School ID</th>\n",
       "      <th>Year_x</th>\n",
       "      <th>Elementary, Middle, or High School</th>\n",
       "      <th>ZIP Code</th>\n",
       "      <th>Average Student Attendance</th>\n",
       "      <th>College Enrollment Rate %</th>\n",
       "      <th>Population</th>\n",
       "    </tr>\n",
       "  </thead>\n",
       "  <tbody>\n",
       "    <tr>\n",
       "      <th>0</th>\n",
       "      <td>2</td>\n",
       "      <td>609680</td>\n",
       "      <td>2011</td>\n",
       "      <td>HS</td>\n",
       "      <td>60610</td>\n",
       "      <td>93.4</td>\n",
       "      <td>82.4</td>\n",
       "      <td>70268.0</td>\n",
       "    </tr>\n",
       "    <tr>\n",
       "      <th>1</th>\n",
       "      <td>5</td>\n",
       "      <td>609722</td>\n",
       "      <td>2011</td>\n",
       "      <td>HS</td>\n",
       "      <td>60612</td>\n",
       "      <td>66.8</td>\n",
       "      <td>51.9</td>\n",
       "      <td>35013.0</td>\n",
       "    </tr>\n",
       "    <tr>\n",
       "      <th>2</th>\n",
       "      <td>8</td>\n",
       "      <td>609749</td>\n",
       "      <td>2011</td>\n",
       "      <td>HS</td>\n",
       "      <td>60625</td>\n",
       "      <td>95.7</td>\n",
       "      <td>90.7</td>\n",
       "      <td>53233.0</td>\n",
       "    </tr>\n",
       "    <tr>\n",
       "      <th>3</th>\n",
       "      <td>11</td>\n",
       "      <td>610244</td>\n",
       "      <td>2011</td>\n",
       "      <td>HS</td>\n",
       "      <td>60644</td>\n",
       "      <td>79.1</td>\n",
       "      <td>60.4</td>\n",
       "      <td>28235.0</td>\n",
       "    </tr>\n",
       "    <tr>\n",
       "      <th>4</th>\n",
       "      <td>14</td>\n",
       "      <td>610394</td>\n",
       "      <td>2011</td>\n",
       "      <td>HS</td>\n",
       "      <td>60640</td>\n",
       "      <td>88.7</td>\n",
       "      <td>65.0</td>\n",
       "      <td>44964.0</td>\n",
       "    </tr>\n",
       "  </tbody>\n",
       "</table>\n",
       "</div>"
      ],
      "text/plain": [
       "   Unnamed: 0  School ID  Year_x Elementary, Middle, or High School  ZIP Code  \\\n",
       "0           2     609680    2011                                 HS     60610   \n",
       "1           5     609722    2011                                 HS     60612   \n",
       "2           8     609749    2011                                 HS     60625   \n",
       "3          11     610244    2011                                 HS     60644   \n",
       "4          14     610394    2011                                 HS     60640   \n",
       "\n",
       "   Average Student Attendance  College Enrollment Rate %  Population  \n",
       "0                        93.4                       82.4     70268.0  \n",
       "1                        66.8                       51.9     35013.0  \n",
       "2                        95.7                       90.7     53233.0  \n",
       "3                        79.1                       60.4     28235.0  \n",
       "4                        88.7                       65.0     44964.0  "
      ]
     },
     "execution_count": 41,
     "metadata": {},
     "output_type": "execute_result"
    }
   ],
   "source": [
    "# File to Load (Remember to Change These)\n",
    "school_data = \"cleaned_school_data.csv\"\n",
    "school_data_df = pd.read_csv(school_data)\n",
    "school_data_df.head()\n"
   ]
  },
  {
   "cell_type": "code",
   "execution_count": 6,
   "metadata": {},
   "outputs": [],
   "source": [
    "# Group by year for the school data\n",
    "yeah_school_df = school_data_df.groupby(['Year_x'])\n",
    "#yeah_school_df = yeah_school_df[\"Average Student Attendance\",\"College Enrollment Rate %\"]"
   ]
  },
  {
   "cell_type": "code",
   "execution_count": 7,
   "metadata": {},
   "outputs": [],
   "source": [
    "# Determine mean of attendance and college enrollment\n",
    "attendance = yeah_school_df[\"Average Student Attendance\"].mean()\n",
    "college_rate = yeah_school_df[\"College Enrollment Rate %\"].mean()"
   ]
  },
  {
   "cell_type": "code",
   "execution_count": 8,
   "metadata": {},
   "outputs": [
    {
     "data": {
      "text/html": [
       "<div>\n",
       "<style scoped>\n",
       "    .dataframe tbody tr th:only-of-type {\n",
       "        vertical-align: middle;\n",
       "    }\n",
       "\n",
       "    .dataframe tbody tr th {\n",
       "        vertical-align: top;\n",
       "    }\n",
       "\n",
       "    .dataframe thead th {\n",
       "        text-align: right;\n",
       "    }\n",
       "</style>\n",
       "<table border=\"1\" class=\"dataframe\">\n",
       "  <thead>\n",
       "    <tr style=\"text-align: right;\">\n",
       "      <th></th>\n",
       "      <th>attendance</th>\n",
       "      <th>college rate</th>\n",
       "    </tr>\n",
       "    <tr>\n",
       "      <th>Year_x</th>\n",
       "      <th></th>\n",
       "      <th></th>\n",
       "    </tr>\n",
       "  </thead>\n",
       "  <tbody>\n",
       "    <tr>\n",
       "      <th>2011</th>\n",
       "      <td>83.563441</td>\n",
       "      <td>57.092473</td>\n",
       "    </tr>\n",
       "    <tr>\n",
       "      <th>2015</th>\n",
       "      <td>88.771170</td>\n",
       "      <td>52.447872</td>\n",
       "    </tr>\n",
       "    <tr>\n",
       "      <th>2021</th>\n",
       "      <td>84.563486</td>\n",
       "      <td>57.145714</td>\n",
       "    </tr>\n",
       "  </tbody>\n",
       "</table>\n",
       "</div>"
      ],
      "text/plain": [
       "        attendance  college rate\n",
       "Year_x                          \n",
       "2011     83.563441     57.092473\n",
       "2015     88.771170     52.447872\n",
       "2021     84.563486     57.145714"
      ]
     },
     "execution_count": 8,
     "metadata": {},
     "output_type": "execute_result"
    }
   ],
   "source": [
    "# Create a dataframe with the attendance and college enrollment averages\n",
    "rate_df = pd.DataFrame({\n",
    "    \"attendance\": attendance,\n",
    "    \"college rate\": college_rate\n",
    "})\n",
    "\n",
    "rate_df"
   ]
  },
  {
   "cell_type": "code",
   "execution_count": 9,
   "metadata": {},
   "outputs": [],
   "source": [
    "# Create lists for student attendance and college enrollment rate\n",
    "attend = school_data_df[\"Average Student Attendance\"]\n",
    "c_rate = school_data_df[\"College Enrollment Rate %\"]"
   ]
  },
  {
   "cell_type": "code",
   "execution_count": 11,
   "metadata": {},
   "outputs": [
    {
     "data": {
      "image/png": "[encoded data removed]",
      "text/plain": [
       "<Figure size 432x288 with 1 Axes>"
      ]
     },
     "metadata": {
      "needs_background": "light"
     },
     "output_type": "display_data"
    }
   ],
   "source": [
    "# Plot the college enrollment rate versus attendance.  \n",
    "plt.scatter(attend,c_rate,marker='o',alpha=0.75)\n",
    "plt.title(\"attendance vs college rate\")\n",
    "plt.xlabel('attendance')\n",
    "plt.ylabel('rate')\n",
    "plt.tight_layout()\n",
    "plt.savefig(\"Images/attendance_v_college_acceptance_rate.png\")\n",
    "plt.show()"
   ]
  },
  {
   "cell_type": "code",
   "execution_count": 12,
   "metadata": {},
   "outputs": [
    {
     "data": {
      "image/png": "[encoded data removed]",
      "text/plain": [
       "<Figure size 1440x216 with 1 Axes>"
      ]
     },
     "metadata": {
      "needs_background": "light"
     },
     "output_type": "display_data"
    }
   ],
   "source": [
    "# Create bar plot showing average attendance and college enrollment rate for each year\n",
    "rate_df.plot(kind=\"bar\",figsize=(20,3),)\n",
    "y = rate_df[\"college rate\"]\n",
    "plt.title(\"rates and attendance\")\n",
    "plt.ylabel(\"rate\")\n",
    "plt.xlabel(\"attendance\")\n",
    "plt.tight_layout()\n",
    "plt.savefig(\"Images/Bar_Chart_Attendance_College_Rate.png\")\n",
    "plt.show()"
   ]
  },
  {
   "cell_type": "code",
   "execution_count": 13,
   "metadata": {},
   "outputs": [],
   "source": [
    "# Create dataframes for each year of school data\n",
    "school_2011_df = school_data_df[school_data_df['Year_x'] == 2011]\n",
    "school_2015_df = school_data_df[school_data_df['Year_x'] == 2015]\n",
    "school_2021_df = school_data_df[school_data_df['Year_x'] == 2021]"
   ]
  },
  {
   "cell_type": "code",
   "execution_count": 14,
   "metadata": {},
   "outputs": [
    {
     "data": {
      "text/html": [
       "<div>\n",
       "<style scoped>\n",
       "    .dataframe tbody tr th:only-of-type {\n",
       "        vertical-align: middle;\n",
       "    }\n",
       "\n",
       "    .dataframe tbody tr th {\n",
       "        vertical-align: top;\n",
       "    }\n",
       "\n",
       "    .dataframe thead th {\n",
       "        text-align: right;\n",
       "    }\n",
       "</style>\n",
       "<table border=\"1\" class=\"dataframe\">\n",
       "  <thead>\n",
       "    <tr style=\"text-align: right;\">\n",
       "      <th></th>\n",
       "      <th>ZIP Code</th>\n",
       "      <th>Year_x</th>\n",
       "      <th>Average Student Attendance</th>\n",
       "      <th>College Enrollment Rate %</th>\n",
       "      <th>Population</th>\n",
       "    </tr>\n",
       "  </thead>\n",
       "  <tbody>\n",
       "    <tr>\n",
       "      <th>0</th>\n",
       "      <td>60605</td>\n",
       "      <td>2011.0</td>\n",
       "      <td>93.800000</td>\n",
       "      <td>86.9</td>\n",
       "      <td>75030.0</td>\n",
       "    </tr>\n",
       "    <tr>\n",
       "      <th>1</th>\n",
       "      <td>60607</td>\n",
       "      <td>2011.0</td>\n",
       "      <td>94.600000</td>\n",
       "      <td>88.3</td>\n",
       "      <td>79242.0</td>\n",
       "    </tr>\n",
       "    <tr>\n",
       "      <th>2</th>\n",
       "      <td>60608</td>\n",
       "      <td>2011.0</td>\n",
       "      <td>83.700000</td>\n",
       "      <td>48.8</td>\n",
       "      <td>35477.0</td>\n",
       "    </tr>\n",
       "    <tr>\n",
       "      <th>3</th>\n",
       "      <td>60609</td>\n",
       "      <td>2011.0</td>\n",
       "      <td>87.433333</td>\n",
       "      <td>45.9</td>\n",
       "      <td>34725.0</td>\n",
       "    </tr>\n",
       "    <tr>\n",
       "      <th>4</th>\n",
       "      <td>60610</td>\n",
       "      <td>2011.0</td>\n",
       "      <td>93.400000</td>\n",
       "      <td>82.4</td>\n",
       "      <td>70268.0</td>\n",
       "    </tr>\n",
       "  </tbody>\n",
       "</table>\n",
       "</div>"
      ],
      "text/plain": [
       "   ZIP Code  Year_x  Average Student Attendance  College Enrollment Rate %  \\\n",
       "0     60605  2011.0                   93.800000                       86.9   \n",
       "1     60607  2011.0                   94.600000                       88.3   \n",
       "2     60608  2011.0                   83.700000                       48.8   \n",
       "3     60609  2011.0                   87.433333                       45.9   \n",
       "4     60610  2011.0                   93.400000                       82.4   \n",
       "\n",
       "   Population  \n",
       "0     75030.0  \n",
       "1     79242.0  \n",
       "2     35477.0  \n",
       "3     34725.0  \n",
       "4     70268.0  "
      ]
     },
     "execution_count": 14,
     "metadata": {},
     "output_type": "execute_result"
    }
   ],
   "source": [
    "# Group the school data by zip code for 2011 school data\n",
    "grouped_zips_2011_df = school_2011_df.groupby('ZIP Code').mean()\n",
    "grouped_zips_2011_df.reset_index(inplace=True)\n",
    "grouped_zips_2011_df = grouped_zips_2011_df[['ZIP Code', 'Year_x',\n",
    "       'Average Student Attendance', 'College Enrollment Rate %',\n",
    "       'Population']]\n",
    "grouped_zips_2011_df.head()"
   ]
  },
  {
   "cell_type": "code",
   "execution_count": 15,
   "metadata": {},
   "outputs": [
    {
     "data": {
      "text/html": [
       "<div>\n",
       "<style scoped>\n",
       "    .dataframe tbody tr th:only-of-type {\n",
       "        vertical-align: middle;\n",
       "    }\n",
       "\n",
       "    .dataframe tbody tr th {\n",
       "        vertical-align: top;\n",
       "    }\n",
       "\n",
       "    .dataframe thead th {\n",
       "        text-align: right;\n",
       "    }\n",
       "</style>\n",
       "<table border=\"1\" class=\"dataframe\">\n",
       "  <thead>\n",
       "    <tr style=\"text-align: right;\">\n",
       "      <th></th>\n",
       "      <th>ZIP Code</th>\n",
       "      <th>Year_x</th>\n",
       "      <th>Average Student Attendance</th>\n",
       "      <th>College Enrollment Rate %</th>\n",
       "      <th>Population</th>\n",
       "    </tr>\n",
       "  </thead>\n",
       "  <tbody>\n",
       "    <tr>\n",
       "      <th>0</th>\n",
       "      <td>60602</td>\n",
       "      <td>2015.0</td>\n",
       "      <td>88.8</td>\n",
       "      <td>59.550000</td>\n",
       "      <td>57368.0</td>\n",
       "    </tr>\n",
       "    <tr>\n",
       "      <th>1</th>\n",
       "      <td>60605</td>\n",
       "      <td>2015.0</td>\n",
       "      <td>88.8</td>\n",
       "      <td>88.500000</td>\n",
       "      <td>87668.0</td>\n",
       "    </tr>\n",
       "    <tr>\n",
       "      <th>2</th>\n",
       "      <td>60607</td>\n",
       "      <td>2015.0</td>\n",
       "      <td>88.8</td>\n",
       "      <td>79.300000</td>\n",
       "      <td>85917.0</td>\n",
       "    </tr>\n",
       "    <tr>\n",
       "      <th>3</th>\n",
       "      <td>60608</td>\n",
       "      <td>2015.0</td>\n",
       "      <td>88.8</td>\n",
       "      <td>44.272727</td>\n",
       "      <td>36216.0</td>\n",
       "    </tr>\n",
       "    <tr>\n",
       "      <th>4</th>\n",
       "      <td>60609</td>\n",
       "      <td>2015.0</td>\n",
       "      <td>88.8</td>\n",
       "      <td>40.628571</td>\n",
       "      <td>32284.0</td>\n",
       "    </tr>\n",
       "  </tbody>\n",
       "</table>\n",
       "</div>"
      ],
      "text/plain": [
       "   ZIP Code  Year_x  Average Student Attendance  College Enrollment Rate %  \\\n",
       "0     60602  2015.0                        88.8                  59.550000   \n",
       "1     60605  2015.0                        88.8                  88.500000   \n",
       "2     60607  2015.0                        88.8                  79.300000   \n",
       "3     60608  2015.0                        88.8                  44.272727   \n",
       "4     60609  2015.0                        88.8                  40.628571   \n",
       "\n",
       "   Population  \n",
       "0     57368.0  \n",
       "1     87668.0  \n",
       "2     85917.0  \n",
       "3     36216.0  \n",
       "4     32284.0  "
      ]
     },
     "execution_count": 15,
     "metadata": {},
     "output_type": "execute_result"
    }
   ],
   "source": [
    "# Group the school data by zip code for 2015 school data\n",
    "grouped_zips_2015_df = school_2015_df.groupby('ZIP Code').mean()\n",
    "grouped_zips_2015_df.reset_index(inplace=True)\n",
    "grouped_zips_2015_df = grouped_zips_2015_df[['ZIP Code', 'Year_x',\n",
    "       'Average Student Attendance', 'College Enrollment Rate %',\n",
    "       'Population']]\n",
    "grouped_zips_2015_df.head()"
   ]
  },
  {
   "cell_type": "code",
   "execution_count": 16,
   "metadata": {},
   "outputs": [
    {
     "data": {
      "text/html": [
       "<div>\n",
       "<style scoped>\n",
       "    .dataframe tbody tr th:only-of-type {\n",
       "        vertical-align: middle;\n",
       "    }\n",
       "\n",
       "    .dataframe tbody tr th {\n",
       "        vertical-align: top;\n",
       "    }\n",
       "\n",
       "    .dataframe thead th {\n",
       "        text-align: right;\n",
       "    }\n",
       "</style>\n",
       "<table border=\"1\" class=\"dataframe\">\n",
       "  <thead>\n",
       "    <tr style=\"text-align: right;\">\n",
       "      <th></th>\n",
       "      <th>ZIP Code</th>\n",
       "      <th>Year_x</th>\n",
       "      <th>Average Student Attendance</th>\n",
       "      <th>College Enrollment Rate %</th>\n",
       "      <th>Population</th>\n",
       "    </tr>\n",
       "  </thead>\n",
       "  <tbody>\n",
       "    <tr>\n",
       "      <th>0</th>\n",
       "      <td>60602</td>\n",
       "      <td>2021.0</td>\n",
       "      <td>72.7000</td>\n",
       "      <td>54.3500</td>\n",
       "      <td>33273.0</td>\n",
       "    </tr>\n",
       "    <tr>\n",
       "      <th>1</th>\n",
       "      <td>60605</td>\n",
       "      <td>2021.0</td>\n",
       "      <td>91.3000</td>\n",
       "      <td>86.4000</td>\n",
       "      <td>102572.0</td>\n",
       "    </tr>\n",
       "    <tr>\n",
       "      <th>2</th>\n",
       "      <td>60607</td>\n",
       "      <td>2021.0</td>\n",
       "      <td>90.3950</td>\n",
       "      <td>73.0000</td>\n",
       "      <td>92790.0</td>\n",
       "    </tr>\n",
       "    <tr>\n",
       "      <th>3</th>\n",
       "      <td>60608</td>\n",
       "      <td>2021.0</td>\n",
       "      <td>77.4625</td>\n",
       "      <td>43.9875</td>\n",
       "      <td>36940.0</td>\n",
       "    </tr>\n",
       "    <tr>\n",
       "      <th>4</th>\n",
       "      <td>60609</td>\n",
       "      <td>2021.0</td>\n",
       "      <td>85.8400</td>\n",
       "      <td>51.8800</td>\n",
       "      <td>30024.0</td>\n",
       "    </tr>\n",
       "  </tbody>\n",
       "</table>\n",
       "</div>"
      ],
      "text/plain": [
       "   ZIP Code  Year_x  Average Student Attendance  College Enrollment Rate %  \\\n",
       "0     60602  2021.0                     72.7000                    54.3500   \n",
       "1     60605  2021.0                     91.3000                    86.4000   \n",
       "2     60607  2021.0                     90.3950                    73.0000   \n",
       "3     60608  2021.0                     77.4625                    43.9875   \n",
       "4     60609  2021.0                     85.8400                    51.8800   \n",
       "\n",
       "   Population  \n",
       "0     33273.0  \n",
       "1    102572.0  \n",
       "2     92790.0  \n",
       "3     36940.0  \n",
       "4     30024.0  "
      ]
     },
     "execution_count": 16,
     "metadata": {},
     "output_type": "execute_result"
    }
   ],
   "source": [
    "# Group the school data by zip code for 2021 school data\n",
    "grouped_zips_2021_df = school_2021_df.groupby('ZIP Code').mean()\n",
    "grouped_zips_2021_df.reset_index(inplace=True)\n",
    "grouped_zips_2021_df = grouped_zips_2021_df[['ZIP Code', 'Year_x',\n",
    "       'Average Student Attendance', 'College Enrollment Rate %',\n",
    "       'Population']]\n",
    "grouped_zips_2021_df.head()"
   ]
  },
  {
   "cell_type": "markdown",
   "metadata": {},
   "source": [
    "Pull In Crime Data"
   ]
  },
  {
   "cell_type": "code",
   "execution_count": 42,
   "metadata": {},
   "outputs": [
    {
     "data": {
      "text/html": [
       "<div>\n",
       "<style scoped>\n",
       "    .dataframe tbody tr th:only-of-type {\n",
       "        vertical-align: middle;\n",
       "    }\n",
       "\n",
       "    .dataframe tbody tr th {\n",
       "        vertical-align: top;\n",
       "    }\n",
       "\n",
       "    .dataframe thead th {\n",
       "        text-align: right;\n",
       "    }\n",
       "</style>\n",
       "<table border=\"1\" class=\"dataframe\">\n",
       "  <thead>\n",
       "    <tr style=\"text-align: right;\">\n",
       "      <th></th>\n",
       "      <th>Unnamed: 0</th>\n",
       "      <th>Zip Code</th>\n",
       "      <th>Count of Crimes</th>\n",
       "      <th>2015</th>\n",
       "      <th>Crime Rate Per 100 People</th>\n",
       "    </tr>\n",
       "  </thead>\n",
       "  <tbody>\n",
       "    <tr>\n",
       "      <th>0</th>\n",
       "      <td>0</td>\n",
       "      <td>60602</td>\n",
       "      <td>5148</td>\n",
       "      <td>57368.0</td>\n",
       "      <td>8.973644</td>\n",
       "    </tr>\n",
       "    <tr>\n",
       "      <th>1</th>\n",
       "      <td>1</td>\n",
       "      <td>60605</td>\n",
       "      <td>2341</td>\n",
       "      <td>87668.0</td>\n",
       "      <td>2.670302</td>\n",
       "    </tr>\n",
       "    <tr>\n",
       "      <th>2</th>\n",
       "      <td>2</td>\n",
       "      <td>60607</td>\n",
       "      <td>3016</td>\n",
       "      <td>85917.0</td>\n",
       "      <td>3.510365</td>\n",
       "    </tr>\n",
       "    <tr>\n",
       "      <th>3</th>\n",
       "      <td>3</td>\n",
       "      <td>60608</td>\n",
       "      <td>3247</td>\n",
       "      <td>36216.0</td>\n",
       "      <td>8.965651</td>\n",
       "    </tr>\n",
       "    <tr>\n",
       "      <th>4</th>\n",
       "      <td>4</td>\n",
       "      <td>60609</td>\n",
       "      <td>3666</td>\n",
       "      <td>32284.0</td>\n",
       "      <td>11.355470</td>\n",
       "    </tr>\n",
       "  </tbody>\n",
       "</table>\n",
       "</div>"
      ],
      "text/plain": [
       "   Unnamed: 0  Zip Code  Count of Crimes     2015  Crime Rate Per 100 People\n",
       "0           0     60602             5148  57368.0                   8.973644\n",
       "1           1     60605             2341  87668.0                   2.670302\n",
       "2           2     60607             3016  85917.0                   3.510365\n",
       "3           3     60608             3247  36216.0                   8.965651\n",
       "4           4     60609             3666  32284.0                  11.355470"
      ]
     },
     "execution_count": 42,
     "metadata": {},
     "output_type": "execute_result"
    }
   ],
   "source": [
    "# Import the crime data for each year\n",
    "crime_data_2011 = \"crimes_rate_2011.csv\"\n",
    "crime_rate_2011_df = pd.read_csv(crime_data_2011)\n",
    "crime_data_2015 = \"crimes_rate_2015.csv\"\n",
    "crime_rate_2015_df = pd.read_csv(crime_data_2015)\n",
    "crime_data_2021 = \"crimes_rate_2021.csv\"\n",
    "crime_rate_2021_df = pd.read_csv(crime_data_2021)\n",
    "crime_rate_2015_df.head()"
   ]
  },
  {
   "cell_type": "code",
   "execution_count": 58,
   "metadata": {},
   "outputs": [],
   "source": [
    "# Merge the school data with the crime data on zip code\n",
    "crime_school_2011_df = crime_rate_2011_df.merge(grouped_zips_2011_df, left_on=\"Zip Code\", right_on=\"ZIP Code\")\n",
    "crime_school_2015_df = crime_rate_2015_df.merge(school_2015_group2_df, left_on=\"Zip Code\", right_on=\"Zip\")\n",
    "crime_school_2021_df = crime_rate_2021_df.merge(grouped_zips_2021_df, left_on=\"Zip Code\", right_on=\"ZIP Code\")\n"
   ]
  },
  {
   "cell_type": "code",
   "execution_count": 59,
   "metadata": {},
   "outputs": [
    {
     "data": {
      "text/html": [
       "<div>\n",
       "<style scoped>\n",
       "    .dataframe tbody tr th:only-of-type {\n",
       "        vertical-align: middle;\n",
       "    }\n",
       "\n",
       "    .dataframe tbody tr th {\n",
       "        vertical-align: top;\n",
       "    }\n",
       "\n",
       "    .dataframe thead th {\n",
       "        text-align: right;\n",
       "    }\n",
       "</style>\n",
       "<table border=\"1\" class=\"dataframe\">\n",
       "  <thead>\n",
       "    <tr style=\"text-align: right;\">\n",
       "      <th></th>\n",
       "      <th>Unnamed: 0</th>\n",
       "      <th>Zip Code</th>\n",
       "      <th>Count of Crimes</th>\n",
       "      <th>2011</th>\n",
       "      <th>Crime Rate Per 100 People</th>\n",
       "      <th>ZIP Code</th>\n",
       "      <th>Year_x</th>\n",
       "      <th>Average Student Attendance</th>\n",
       "      <th>College Enrollment Rate %</th>\n",
       "      <th>Population</th>\n",
       "    </tr>\n",
       "  </thead>\n",
       "  <tbody>\n",
       "    <tr>\n",
       "      <th>0</th>\n",
       "      <td>1</td>\n",
       "      <td>60605</td>\n",
       "      <td>2394</td>\n",
       "      <td>75030.0</td>\n",
       "      <td>3.190724</td>\n",
       "      <td>60605</td>\n",
       "      <td>2011.0</td>\n",
       "      <td>93.800000</td>\n",
       "      <td>86.9</td>\n",
       "      <td>75030.0</td>\n",
       "    </tr>\n",
       "    <tr>\n",
       "      <th>1</th>\n",
       "      <td>2</td>\n",
       "      <td>60607</td>\n",
       "      <td>3946</td>\n",
       "      <td>79242.0</td>\n",
       "      <td>4.979682</td>\n",
       "      <td>60607</td>\n",
       "      <td>2011.0</td>\n",
       "      <td>94.600000</td>\n",
       "      <td>88.3</td>\n",
       "      <td>79242.0</td>\n",
       "    </tr>\n",
       "    <tr>\n",
       "      <th>2</th>\n",
       "      <td>3</td>\n",
       "      <td>60608</td>\n",
       "      <td>4324</td>\n",
       "      <td>35477.0</td>\n",
       "      <td>12.188178</td>\n",
       "      <td>60608</td>\n",
       "      <td>2011.0</td>\n",
       "      <td>83.700000</td>\n",
       "      <td>48.8</td>\n",
       "      <td>35477.0</td>\n",
       "    </tr>\n",
       "    <tr>\n",
       "      <th>3</th>\n",
       "      <td>4</td>\n",
       "      <td>60609</td>\n",
       "      <td>4936</td>\n",
       "      <td>34725.0</td>\n",
       "      <td>14.214543</td>\n",
       "      <td>60609</td>\n",
       "      <td>2011.0</td>\n",
       "      <td>87.433333</td>\n",
       "      <td>45.9</td>\n",
       "      <td>34725.0</td>\n",
       "    </tr>\n",
       "    <tr>\n",
       "      <th>4</th>\n",
       "      <td>5</td>\n",
       "      <td>60610</td>\n",
       "      <td>3396</td>\n",
       "      <td>70268.0</td>\n",
       "      <td>4.832925</td>\n",
       "      <td>60610</td>\n",
       "      <td>2011.0</td>\n",
       "      <td>93.400000</td>\n",
       "      <td>82.4</td>\n",
       "      <td>70268.0</td>\n",
       "    </tr>\n",
       "  </tbody>\n",
       "</table>\n",
       "</div>"
      ],
      "text/plain": [
       "   Unnamed: 0  Zip Code  Count of Crimes     2011  Crime Rate Per 100 People  \\\n",
       "0           1     60605             2394  75030.0                   3.190724   \n",
       "1           2     60607             3946  79242.0                   4.979682   \n",
       "2           3     60608             4324  35477.0                  12.188178   \n",
       "3           4     60609             4936  34725.0                  14.214543   \n",
       "4           5     60610             3396  70268.0                   4.832925   \n",
       "\n",
       "   ZIP Code  Year_x  Average Student Attendance  College Enrollment Rate %  \\\n",
       "0     60605  2011.0                   93.800000                       86.9   \n",
       "1     60607  2011.0                   94.600000                       88.3   \n",
       "2     60608  2011.0                   83.700000                       48.8   \n",
       "3     60609  2011.0                   87.433333                       45.9   \n",
       "4     60610  2011.0                   93.400000                       82.4   \n",
       "\n",
       "   Population  \n",
       "0     75030.0  \n",
       "1     79242.0  \n",
       "2     35477.0  \n",
       "3     34725.0  \n",
       "4     70268.0  "
      ]
     },
     "execution_count": 59,
     "metadata": {},
     "output_type": "execute_result"
    }
   ],
   "source": [
    "# Verify 2011 dataframe\n",
    "crime_school_2011_df.head()"
   ]
  },
  {
   "cell_type": "code",
   "execution_count": 60,
   "metadata": {},
   "outputs": [
    {
     "data": {
      "text/html": [
       "<div>\n",
       "<style scoped>\n",
       "    .dataframe tbody tr th:only-of-type {\n",
       "        vertical-align: middle;\n",
       "    }\n",
       "\n",
       "    .dataframe tbody tr th {\n",
       "        vertical-align: top;\n",
       "    }\n",
       "\n",
       "    .dataframe thead th {\n",
       "        text-align: right;\n",
       "    }\n",
       "</style>\n",
       "<table border=\"1\" class=\"dataframe\">\n",
       "  <thead>\n",
       "    <tr style=\"text-align: right;\">\n",
       "      <th></th>\n",
       "      <th>Unnamed: 0</th>\n",
       "      <th>Zip Code</th>\n",
       "      <th>Count of Crimes</th>\n",
       "      <th>2015</th>\n",
       "      <th>Crime Rate Per 100 People</th>\n",
       "      <th>Zip</th>\n",
       "      <th>Student_Attendance_Year_2_Pct</th>\n",
       "      <th>College_Enrollment_School_Pct_Year_2</th>\n",
       "    </tr>\n",
       "  </thead>\n",
       "  <tbody>\n",
       "    <tr>\n",
       "      <th>0</th>\n",
       "      <td>0</td>\n",
       "      <td>60602</td>\n",
       "      <td>5148</td>\n",
       "      <td>57368.0</td>\n",
       "      <td>8.973644</td>\n",
       "      <td>60602</td>\n",
       "      <td>84.250000</td>\n",
       "      <td>59.250000</td>\n",
       "    </tr>\n",
       "    <tr>\n",
       "      <th>1</th>\n",
       "      <td>1</td>\n",
       "      <td>60605</td>\n",
       "      <td>2341</td>\n",
       "      <td>87668.0</td>\n",
       "      <td>2.670302</td>\n",
       "      <td>60605</td>\n",
       "      <td>93.800000</td>\n",
       "      <td>87.600000</td>\n",
       "    </tr>\n",
       "    <tr>\n",
       "      <th>2</th>\n",
       "      <td>2</td>\n",
       "      <td>60607</td>\n",
       "      <td>3016</td>\n",
       "      <td>85917.0</td>\n",
       "      <td>3.510365</td>\n",
       "      <td>60607</td>\n",
       "      <td>94.200000</td>\n",
       "      <td>72.950000</td>\n",
       "    </tr>\n",
       "    <tr>\n",
       "      <th>3</th>\n",
       "      <td>3</td>\n",
       "      <td>60608</td>\n",
       "      <td>3247</td>\n",
       "      <td>36216.0</td>\n",
       "      <td>8.965651</td>\n",
       "      <td>60608</td>\n",
       "      <td>83.490000</td>\n",
       "      <td>44.950000</td>\n",
       "    </tr>\n",
       "    <tr>\n",
       "      <th>4</th>\n",
       "      <td>4</td>\n",
       "      <td>60609</td>\n",
       "      <td>3666</td>\n",
       "      <td>32284.0</td>\n",
       "      <td>11.355470</td>\n",
       "      <td>60609</td>\n",
       "      <td>87.016667</td>\n",
       "      <td>36.516667</td>\n",
       "    </tr>\n",
       "  </tbody>\n",
       "</table>\n",
       "</div>"
      ],
      "text/plain": [
       "   Unnamed: 0  Zip Code  Count of Crimes     2015  Crime Rate Per 100 People  \\\n",
       "0           0     60602             5148  57368.0                   8.973644   \n",
       "1           1     60605             2341  87668.0                   2.670302   \n",
       "2           2     60607             3016  85917.0                   3.510365   \n",
       "3           3     60608             3247  36216.0                   8.965651   \n",
       "4           4     60609             3666  32284.0                  11.355470   \n",
       "\n",
       "     Zip  Student_Attendance_Year_2_Pct  College_Enrollment_School_Pct_Year_2  \n",
       "0  60602                      84.250000                             59.250000  \n",
       "1  60605                      93.800000                             87.600000  \n",
       "2  60607                      94.200000                             72.950000  \n",
       "3  60608                      83.490000                             44.950000  \n",
       "4  60609                      87.016667                             36.516667  "
      ]
     },
     "execution_count": 60,
     "metadata": {},
     "output_type": "execute_result"
    }
   ],
   "source": [
    "# Verify 2015 dataframe\n",
    "crime_school_2015_df.head()"
   ]
  },
  {
   "cell_type": "code",
   "execution_count": 61,
   "metadata": {},
   "outputs": [
    {
     "data": {
      "text/html": [
       "<div>\n",
       "<style scoped>\n",
       "    .dataframe tbody tr th:only-of-type {\n",
       "        vertical-align: middle;\n",
       "    }\n",
       "\n",
       "    .dataframe tbody tr th {\n",
       "        vertical-align: top;\n",
       "    }\n",
       "\n",
       "    .dataframe thead th {\n",
       "        text-align: right;\n",
       "    }\n",
       "</style>\n",
       "<table border=\"1\" class=\"dataframe\">\n",
       "  <thead>\n",
       "    <tr style=\"text-align: right;\">\n",
       "      <th></th>\n",
       "      <th>Unnamed: 0</th>\n",
       "      <th>Zip Code</th>\n",
       "      <th>Count of Crimes</th>\n",
       "      <th>2021</th>\n",
       "      <th>Crime Rate Per 100 People</th>\n",
       "      <th>ZIP Code</th>\n",
       "      <th>Year_x</th>\n",
       "      <th>Average Student Attendance</th>\n",
       "      <th>College Enrollment Rate %</th>\n",
       "      <th>Population</th>\n",
       "    </tr>\n",
       "  </thead>\n",
       "  <tbody>\n",
       "    <tr>\n",
       "      <th>0</th>\n",
       "      <td>0</td>\n",
       "      <td>60602</td>\n",
       "      <td>2963</td>\n",
       "      <td>33273.0</td>\n",
       "      <td>8.905118</td>\n",
       "      <td>60602</td>\n",
       "      <td>2021.0</td>\n",
       "      <td>72.7000</td>\n",
       "      <td>54.3500</td>\n",
       "      <td>33273.0</td>\n",
       "    </tr>\n",
       "    <tr>\n",
       "      <th>1</th>\n",
       "      <td>1</td>\n",
       "      <td>60605</td>\n",
       "      <td>2230</td>\n",
       "      <td>102572.0</td>\n",
       "      <td>2.174083</td>\n",
       "      <td>60605</td>\n",
       "      <td>2021.0</td>\n",
       "      <td>91.3000</td>\n",
       "      <td>86.4000</td>\n",
       "      <td>102572.0</td>\n",
       "    </tr>\n",
       "    <tr>\n",
       "      <th>2</th>\n",
       "      <td>2</td>\n",
       "      <td>60607</td>\n",
       "      <td>2892</td>\n",
       "      <td>92790.0</td>\n",
       "      <td>3.116715</td>\n",
       "      <td>60607</td>\n",
       "      <td>2021.0</td>\n",
       "      <td>90.3950</td>\n",
       "      <td>73.0000</td>\n",
       "      <td>92790.0</td>\n",
       "    </tr>\n",
       "    <tr>\n",
       "      <th>3</th>\n",
       "      <td>3</td>\n",
       "      <td>60608</td>\n",
       "      <td>2654</td>\n",
       "      <td>36940.0</td>\n",
       "      <td>7.184624</td>\n",
       "      <td>60608</td>\n",
       "      <td>2021.0</td>\n",
       "      <td>77.4625</td>\n",
       "      <td>43.9875</td>\n",
       "      <td>36940.0</td>\n",
       "    </tr>\n",
       "    <tr>\n",
       "      <th>4</th>\n",
       "      <td>4</td>\n",
       "      <td>60609</td>\n",
       "      <td>2507</td>\n",
       "      <td>30024.0</td>\n",
       "      <td>8.349987</td>\n",
       "      <td>60609</td>\n",
       "      <td>2021.0</td>\n",
       "      <td>85.8400</td>\n",
       "      <td>51.8800</td>\n",
       "      <td>30024.0</td>\n",
       "    </tr>\n",
       "  </tbody>\n",
       "</table>\n",
       "</div>"
      ],
      "text/plain": [
       "   Unnamed: 0  Zip Code  Count of Crimes      2021  Crime Rate Per 100 People  \\\n",
       "0           0     60602             2963   33273.0                   8.905118   \n",
       "1           1     60605             2230  102572.0                   2.174083   \n",
       "2           2     60607             2892   92790.0                   3.116715   \n",
       "3           3     60608             2654   36940.0                   7.184624   \n",
       "4           4     60609             2507   30024.0                   8.349987   \n",
       "\n",
       "   ZIP Code  Year_x  Average Student Attendance  College Enrollment Rate %  \\\n",
       "0     60602  2021.0                     72.7000                    54.3500   \n",
       "1     60605  2021.0                     91.3000                    86.4000   \n",
       "2     60607  2021.0                     90.3950                    73.0000   \n",
       "3     60608  2021.0                     77.4625                    43.9875   \n",
       "4     60609  2021.0                     85.8400                    51.8800   \n",
       "\n",
       "   Population  \n",
       "0     33273.0  \n",
       "1    102572.0  \n",
       "2     92790.0  \n",
       "3     36940.0  \n",
       "4     30024.0  "
      ]
     },
     "execution_count": 61,
     "metadata": {},
     "output_type": "execute_result"
    }
   ],
   "source": [
    "# Verify 2021 dataframe\n",
    "crime_school_2021_df.head()"
   ]
  },
  {
   "cell_type": "markdown",
   "metadata": {},
   "source": [
    "Run regression analysis for 2011"
   ]
  },
  {
   "cell_type": "code",
   "execution_count": 62,
   "metadata": {},
   "outputs": [],
   "source": [
    "# Dependencies\n",
    "from scipy.stats import linregress\n",
    "import scipy.stats as sem"
   ]
  },
  {
   "cell_type": "code",
   "execution_count": 63,
   "metadata": {},
   "outputs": [],
   "source": [
    "# def regresion_chart(x,y):\n",
    "# x_values = crime_school_2011_df[\"Average Student Attendance\"]\n",
    "# y_values = crime_school_2011_df[\"Crime Rate Per 100 People\"]\n",
    "# (slope, intercept, rvalue, pvalue, stderr) = linregress(x_values, y_values)\n",
    "# regress_values = x_values * slope + intercept\n",
    "# line_eq = \"y = \" + str(round(slope,2)) + \"x + \" + str(round(intercept,2))\n",
    "# plt.scatter(x_values,y_values)\n",
    "# plt.plot(x_values,regress_values,\"r-\")\n",
    "# plt.annotate(line_eq,(80,50),fontsize=15,color=\"red\")\n",
    "# plt.title(\"crime rate vs attendance\")\n",
    "# plt.xlabel('attendance')\n",
    "# plt.ylabel('crime rate')\n",
    "# print(f\"The r-squared is: {rvalue**2}\")\n",
    "# plt.show()"
   ]
  },
  {
   "cell_type": "code",
   "execution_count": 64,
   "metadata": {},
   "outputs": [
    {
     "name": "stdout",
     "output_type": "stream",
     "text": [
      "The r-squared is: 0.25505603413025274\n"
     ]
    },
    {
     "data": {
      "image/png": "[encoded data removed]",
      "text/plain": [
       "<Figure size 432x288 with 1 Axes>"
      ]
     },
     "metadata": {
      "needs_background": "light"
     },
     "output_type": "display_data"
    }
   ],
   "source": [
    "# Plot 2011 Attendance vs Crime Rate and Run Regression Analysis\n",
    "x_values = crime_school_2011_df[\"Crime Rate Per 100 People\"]\n",
    "y_values = crime_school_2011_df[\"Average Student Attendance\"]\n",
    "(slope, intercept, rvalue, pvalue, stderr) = linregress(x_values, y_values)\n",
    "regress_values = x_values * slope + intercept\n",
    "line_eq = \"y = \" + str(round(slope,2)) + \"x + \" + str(round(intercept,2))\n",
    "plt.scatter(x_values,y_values)\n",
    "plt.plot(x_values,regress_values,\"r-\")\n",
    "plt.annotate(line_eq,(40, 90),fontsize=15,color=\"red\")\n",
    "plt.title(\"2011 crime rate vs attendance\")\n",
    "plt.xlabel('crime rate')\n",
    "plt.ylabel('attendance')\n",
    "print(f\"The r-squared is: {rvalue**2}\")\n",
    "plt.tight_layout()\n",
    "plt.savefig(\"Images/2011_Attendance_v_Crime.png\")\n",
    "plt.show()\n"
   ]
  },
  {
   "cell_type": "code",
   "execution_count": 65,
   "metadata": {},
   "outputs": [
    {
     "name": "stdout",
     "output_type": "stream",
     "text": [
      "The Pearson Correlation Coefficient is -0.51\n",
      "\n"
     ]
    }
   ],
   "source": [
    "# Calculate Pearson Correlation Coefficient\n",
    "x_values = crime_school_2011_df[\"Crime Rate Per 100 People\"]\n",
    "y_values = crime_school_2011_df[\"Average Student Attendance\"]\n",
    "correlation = sem.pearsonr(x_values, y_values)\n",
    "print(f\"The Pearson Correlation Coefficient is {round(correlation[0],2)}\")\n",
    "print(\"\")\n"
   ]
  },
  {
   "cell_type": "code",
   "execution_count": 66,
   "metadata": {},
   "outputs": [
    {
     "name": "stdout",
     "output_type": "stream",
     "text": [
      "The r-squared is: 0.05349069100061563\n"
     ]
    },
    {
     "data": {
      "image/png": "[encoded data removed]",
      "text/plain": [
       "<Figure size 432x288 with 1 Axes>"
      ]
     },
     "metadata": {
      "needs_background": "light"
     },
     "output_type": "display_data"
    }
   ],
   "source": [
    "# Plot 2011 Graduation Rate vs Crime Rate and Run Regression\n",
    "x_values = crime_school_2011_df[\"Crime Rate Per 100 People\"]\n",
    "y_values = crime_school_2011_df[\"College Enrollment Rate %\"]\n",
    "(slope, intercept, rvalue, pvalue, stderr) = linregress(x_values, y_values)\n",
    "regress_values = x_values * slope + intercept\n",
    "line_eq = \"y = \" + str(round(slope,2)) + \"x + \" + str(round(intercept,2))\n",
    "plt.scatter(x_values,y_values)\n",
    "plt.plot(x_values,regress_values,\"r-\")\n",
    "plt.annotate(line_eq,(40,65),fontsize=15,color=\"red\")\n",
    "plt.title(\"2011 crime rate vs college enrollment\")\n",
    "plt.xlabel('crime rate')\n",
    "plt.ylabel('college enrollment')\n",
    "print(f\"The r-squared is: {rvalue**2}\")\n",
    "plt.tight_layout()\n",
    "plt.savefig(\"Images/2011_College_Enrollment_v_Crime.png\")\n",
    "plt.show()"
   ]
  },
  {
   "cell_type": "code",
   "execution_count": 67,
   "metadata": {},
   "outputs": [
    {
     "name": "stdout",
     "output_type": "stream",
     "text": [
      "The Pearson Correlation Coefficient is -0.23\n",
      "\n"
     ]
    }
   ],
   "source": [
    "# Calculate Pearson Correlation Coefficient\n",
    "x_values = crime_school_2011_df[\"Crime Rate Per 100 People\"]\n",
    "y_values = crime_school_2011_df[\"College Enrollment Rate %\"]\n",
    "correlation = sem.pearsonr(x_values, y_values)\n",
    "print(f\"The Pearson Correlation Coefficient is {round(correlation[0],2)}\")\n",
    "print(\"\")"
   ]
  },
  {
   "cell_type": "markdown",
   "metadata": {},
   "source": [
    "Run regression analysis for 2015"
   ]
  },
  {
   "cell_type": "code",
   "execution_count": 68,
   "metadata": {},
   "outputs": [
    {
     "name": "stdout",
     "output_type": "stream",
     "text": [
      "The r-squared is: 0.23120303401316145\n"
     ]
    },
    {
     "data": {
      "image/png": "[encoded data removed]",
      "text/plain": [
       "<Figure size 432x288 with 1 Axes>"
      ]
     },
     "metadata": {
      "needs_background": "light"
     },
     "output_type": "display_data"
    }
   ],
   "source": [
    "# Plot 2015 Attendance vs Crime Rate and Run Regression\n",
    "x_values = crime_school_2015_df[\"Crime Rate Per 100 People\"]\n",
    "y_values = crime_school_2015_df[\"Student_Attendance_Year_2_Pct\"]\n",
    "(slope, intercept, rvalue, pvalue, stderr) = linregress(x_values, y_values)\n",
    "regress_values = x_values * slope + intercept\n",
    "line_eq = \"y = \" + str(round(slope,2)) + \"x + \" + str(round(intercept,2))\n",
    "plt.scatter(x_values,y_values)\n",
    "plt.plot(x_values,regress_values,\"r-\")\n",
    "plt.annotate(line_eq,(20,80),fontsize=15,color=\"red\")\n",
    "plt.title(\"2015 crime rate vs attendance\")\n",
    "plt.xlabel('crime rate')\n",
    "plt.ylabel('attendance')\n",
    "print(f\"The r-squared is: {rvalue**2}\")\n",
    "plt.tight_layout()\n",
    "plt.savefig(\"Images/2015_Attendance_v_Crime.png\")\n",
    "plt.show()"
   ]
  },
  {
   "cell_type": "code",
   "execution_count": 69,
   "metadata": {},
   "outputs": [
    {
     "name": "stdout",
     "output_type": "stream",
     "text": [
      "The Pearson Correlation Coefficient is -0.48\n",
      "\n"
     ]
    }
   ],
   "source": [
    "# Calculate Pearson Correlation Coefficient\n",
    "x_values = crime_school_2015_df[\"Crime Rate Per 100 People\"]\n",
    "y_values = crime_school_2015_df[\"Student_Attendance_Year_2_Pct\"]\n",
    "correlation = sem.pearsonr(x_values, y_values)\n",
    "print(f\"The Pearson Correlation Coefficient is {round(correlation[0],2)}\")\n",
    "print(\"\")"
   ]
  },
  {
   "cell_type": "code",
   "execution_count": 70,
   "metadata": {},
   "outputs": [
    {
     "name": "stdout",
     "output_type": "stream",
     "text": [
      "The r-squared is: 0.18773879893663692\n"
     ]
    },
    {
     "data": {
      "image/png": "[encoded data removed]",
      "text/plain": [
       "<Figure size 432x288 with 1 Axes>"
      ]
     },
     "metadata": {
      "needs_background": "light"
     },
     "output_type": "display_data"
    }
   ],
   "source": [
    "# Plot 2015 College Enrollment vs Crime Rate and Run Regression\n",
    "x_values = crime_school_2015_df[\"Crime Rate Per 100 People\"]\n",
    "y_values = crime_school_2015_df[\"College_Enrollment_School_Pct_Year_2\"]\n",
    "(slope, intercept, rvalue, pvalue, stderr) = linregress(x_values, y_values)\n",
    "regress_values = x_values * slope + intercept\n",
    "line_eq = \"y = \" + str(round(slope,2)) + \"x + \" + str(round(intercept,2))\n",
    "plt.scatter(x_values,y_values)\n",
    "plt.plot(x_values,regress_values,\"r-\")\n",
    "plt.annotate(line_eq,(20,80),fontsize=15,color=\"red\")\n",
    "plt.title(\"2015 crime rate vs college enrollment\")\n",
    "plt.xlabel('crime rate')\n",
    "plt.ylabel('college enrollment')\n",
    "print(f\"The r-squared is: {rvalue**2}\")\n",
    "plt.tight_layout()\n",
    "plt.savefig(\"Images/2015_College_Enrollment_v_Crime.png\")\n",
    "plt.show()"
   ]
  },
  {
   "cell_type": "code",
   "execution_count": 71,
   "metadata": {},
   "outputs": [
    {
     "name": "stdout",
     "output_type": "stream",
     "text": [
      "The Pearson Correlation Coefficient is -0.43\n",
      "\n"
     ]
    }
   ],
   "source": [
    "# Calculate Pearson Correlation Coefficient\n",
    "x_values = crime_school_2015_df[\"Crime Rate Per 100 People\"]\n",
    "y_values = crime_school_2015_df[\"College_Enrollment_School_Pct_Year_2\"]\n",
    "correlation = sem.pearsonr(x_values, y_values)\n",
    "print(f\"The Pearson Correlation Coefficient is {round(correlation[0],2)}\")\n",
    "print(\"\")"
   ]
  },
  {
   "cell_type": "markdown",
   "metadata": {},
   "source": [
    "Run regression analysis for 2021"
   ]
  },
  {
   "cell_type": "code",
   "execution_count": 72,
   "metadata": {},
   "outputs": [
    {
     "name": "stdout",
     "output_type": "stream",
     "text": [
      "The r-squared is: 0.14498919444088776\n"
     ]
    },
    {
     "data": {
      "image/png": "[encoded data removed]",
      "text/plain": [
       "<Figure size 432x288 with 1 Axes>"
      ]
     },
     "metadata": {
      "needs_background": "light"
     },
     "output_type": "display_data"
    }
   ],
   "source": [
    "# Plot 2021 Attendance vs Crime Rate and Run Regression\n",
    "x_values = crime_school_2021_df[\"Crime Rate Per 100 People\"]\n",
    "y_values = crime_school_2021_df[\"Average Student Attendance\"]\n",
    "(slope, intercept, rvalue, pvalue, stderr) = linregress(x_values, y_values)\n",
    "regress_values = x_values * slope + intercept\n",
    "line_eq = \"y = \" + str(round(slope,2)) + \"x + \" + str(round(intercept,2))\n",
    "plt.scatter(x_values,y_values)\n",
    "plt.plot(x_values,regress_values,\"r-\")\n",
    "plt.annotate(line_eq,(20,75),fontsize=15,color=\"red\")\n",
    "plt.title(\"2021 crime rate vs attendance\")\n",
    "plt.xlabel('crime rate')\n",
    "plt.ylabel('attendance')\n",
    "print(f\"The r-squared is: {rvalue**2}\")\n",
    "plt.tight_layout()\n",
    "plt.savefig(\"Images/2021_Attendance_v_Crime.png\")\n",
    "plt.show()"
   ]
  },
  {
   "cell_type": "code",
   "execution_count": 65,
   "metadata": {},
   "outputs": [
    {
     "name": "stdout",
     "output_type": "stream",
     "text": [
      "The Pearson Correlation Coefficient is -0.39\n",
      "\n"
     ]
    }
   ],
   "source": [
    "# Calculate Pearson Correlation Coefficient\n",
    "x_values = crime_school_2021_df[\"Crime Rate Per 100 People\"]\n",
    "y_values = crime_school_2021_df[\"Average Student Attendance\"]\n",
    "correlation = sem.pearsonr(x_values, y_values)\n",
    "print(f\"The Pearson Correlation Coefficient is {round(correlation[0],2)}\")\n",
    "print(\"\")"
   ]
  },
  {
   "cell_type": "code",
   "execution_count": 39,
   "metadata": {},
   "outputs": [
    {
     "name": "stdout",
     "output_type": "stream",
     "text": [
      "The r-squared is: 0.2095514903972171\n"
     ]
    },
    {
     "data": {
      "image/png": "[encoded data removed]",
      "text/plain": [
       "<Figure size 432x288 with 1 Axes>"
      ]
     },
     "metadata": {
      "needs_background": "light"
     },
     "output_type": "display_data"
    }
   ],
   "source": [
    "# Plot 2021 College Enrollment vs Crime Rate and Run Regression\n",
    "x_values = crime_school_2021_df[\"Crime Rate Per 100 People\"]\n",
    "y_values = crime_school_2021_df[\"College Enrollment Rate %\"]\n",
    "(slope, intercept, rvalue, pvalue, stderr) = linregress(x_values, y_values)\n",
    "regress_values = x_values * slope + intercept\n",
    "line_eq = \"y = \" + str(round(slope,2)) + \"x + \" + str(round(intercept,2))\n",
    "plt.scatter(x_values,y_values)\n",
    "plt.plot(x_values,regress_values,\"r-\")\n",
    "plt.annotate(line_eq,(20,75),fontsize=15,color=\"red\")\n",
    "plt.title(\"2021 crime rate vs college enrollment\")\n",
    "plt.xlabel('crime rate')\n",
    "plt.ylabel('college enrollment')\n",
    "print(f\"The r-squared is: {rvalue**2}\")\n",
    "plt.tight_layout()\n",
    "plt.savefig(\"Images/2021_College_Enrollment_v_Crime.png\")\n",
    "plt.show()"
   ]
  },
  {
   "cell_type": "code",
   "execution_count": 40,
   "metadata": {},
   "outputs": [
    {
     "name": "stdout",
     "output_type": "stream",
     "text": [
      "The Pearson Correlation Coefficient is -0.46\n",
      "\n"
     ]
    }
   ],
   "source": [
    "# Calculate Pearson Correlation Coefficient\n",
    "x_values = crime_school_2021_df[\"Crime Rate Per 100 People\"]\n",
    "y_values = crime_school_2021_df[\"College Enrollment Rate %\"]\n",
    "correlation = sem.pearsonr(x_values, y_values)\n",
    "print(f\"The Pearson Correlation Coefficient is {round(correlation[0],2)}\")\n",
    "print(\"\")"
   ]
  },
  {
   "cell_type": "code",
   "execution_count": null,
   "metadata": {},
   "outputs": [],
   "source": []
  }
 ],
 "metadata": {
  "interpreter": {
   "hash": "3067ead486e059ec00ffe7555bdb889e6e264a24dc711bf108106cc7baee8d5d"
  },
  "kernelspec": {
   "display_name": "Python 3.9.7 ('base')",
   "language": "python",
   "name": "python3"
  },
  "language_info": {
   "codemirror_mode": {
    "name": "ipython",
    "version": 3
   },
   "file_extension": ".py",
   "mimetype": "text/x-python",
   "name": "python",
   "nbconvert_exporter": "python",
   "pygments_lexer": "ipython3",
   "version": "3.9.7"
  },
  "orig_nbformat": 4
 },
 "nbformat": 4,
 "nbformat_minor": 2
}
