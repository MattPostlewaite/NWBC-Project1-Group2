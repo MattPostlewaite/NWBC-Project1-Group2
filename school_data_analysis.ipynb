{
 "cells": [
  {
   "cell_type": "code",
   "execution_count": 1,
   "metadata": {},
   "outputs": [],
   "source": [
    "#Import dependencies\n",
    "import matplotlib.pyplot as plt\n",
    "import requests\n",
    "from scipy import stats\n",
    "import pandas as pd\n",
    "from config import api_key"
   ]
  },
  {
   "cell_type": "code",
   "execution_count": 5,
   "metadata": {},
   "outputs": [
    {
     "data": {
      "text/html": [
       "<div>\n",
       "<style scoped>\n",
       "    .dataframe tbody tr th:only-of-type {\n",
       "        vertical-align: middle;\n",
       "    }\n",
       "\n",
       "    .dataframe tbody tr th {\n",
       "        vertical-align: top;\n",
       "    }\n",
       "\n",
       "    .dataframe thead th {\n",
       "        text-align: right;\n",
       "    }\n",
       "</style>\n",
       "<table border=\"1\" class=\"dataframe\">\n",
       "  <thead>\n",
       "    <tr style=\"text-align: right;\">\n",
       "      <th></th>\n",
       "      <th>Unnamed: 0</th>\n",
       "      <th>School ID</th>\n",
       "      <th>Year</th>\n",
       "      <th>Elementary, Middle, or High School</th>\n",
       "      <th>ZIP Code</th>\n",
       "      <th>Average Student Attendance</th>\n",
       "      <th>College Enrollment Rate %</th>\n",
       "      <th>Average Student Attendace</th>\n",
       "    </tr>\n",
       "  </thead>\n",
       "  <tbody>\n",
       "    <tr>\n",
       "      <th>0</th>\n",
       "      <td>8</td>\n",
       "      <td>609680</td>\n",
       "      <td>2011</td>\n",
       "      <td>HS</td>\n",
       "      <td>60610</td>\n",
       "      <td>93.4</td>\n",
       "      <td>82.4</td>\n",
       "      <td>93.4</td>\n",
       "    </tr>\n",
       "    <tr>\n",
       "      <th>1</th>\n",
       "      <td>15</td>\n",
       "      <td>609722</td>\n",
       "      <td>2011</td>\n",
       "      <td>HS</td>\n",
       "      <td>60612</td>\n",
       "      <td>66.8</td>\n",
       "      <td>51.9</td>\n",
       "      <td>66.8</td>\n",
       "    </tr>\n",
       "    <tr>\n",
       "      <th>2</th>\n",
       "      <td>17</td>\n",
       "      <td>609749</td>\n",
       "      <td>2011</td>\n",
       "      <td>HS</td>\n",
       "      <td>60625</td>\n",
       "      <td>95.7</td>\n",
       "      <td>90.7</td>\n",
       "      <td>95.7</td>\n",
       "    </tr>\n",
       "    <tr>\n",
       "      <th>3</th>\n",
       "      <td>28</td>\n",
       "      <td>610244</td>\n",
       "      <td>2011</td>\n",
       "      <td>HS</td>\n",
       "      <td>60644</td>\n",
       "      <td>79.1</td>\n",
       "      <td>60.4</td>\n",
       "      <td>79.1</td>\n",
       "    </tr>\n",
       "    <tr>\n",
       "      <th>4</th>\n",
       "      <td>30</td>\n",
       "      <td>610394</td>\n",
       "      <td>2011</td>\n",
       "      <td>HS</td>\n",
       "      <td>60640</td>\n",
       "      <td>88.7</td>\n",
       "      <td>65.0</td>\n",
       "      <td>88.7</td>\n",
       "    </tr>\n",
       "    <tr>\n",
       "      <th>...</th>\n",
       "      <td>...</td>\n",
       "      <td>...</td>\n",
       "      <td>...</td>\n",
       "      <td>...</td>\n",
       "      <td>...</td>\n",
       "      <td>...</td>\n",
       "      <td>...</td>\n",
       "      <td>...</td>\n",
       "    </tr>\n",
       "    <tr>\n",
       "      <th>451</th>\n",
       "      <td>641</td>\n",
       "      <td>609698</td>\n",
       "      <td>2021</td>\n",
       "      <td>HS</td>\n",
       "      <td>60652</td>\n",
       "      <td>85.9</td>\n",
       "      <td>53.5</td>\n",
       "      <td>85.9</td>\n",
       "    </tr>\n",
       "    <tr>\n",
       "      <th>452</th>\n",
       "      <td>642</td>\n",
       "      <td>609748</td>\n",
       "      <td>2021</td>\n",
       "      <td>HS</td>\n",
       "      <td>60608</td>\n",
       "      <td>73.7</td>\n",
       "      <td>4.0</td>\n",
       "      <td>73.7</td>\n",
       "    </tr>\n",
       "    <tr>\n",
       "      <th>453</th>\n",
       "      <td>646</td>\n",
       "      <td>400126</td>\n",
       "      <td>2021</td>\n",
       "      <td>HS</td>\n",
       "      <td>60651</td>\n",
       "      <td>59.7</td>\n",
       "      <td>21.1</td>\n",
       "      <td>59.7</td>\n",
       "    </tr>\n",
       "    <tr>\n",
       "      <th>454</th>\n",
       "      <td>651</td>\n",
       "      <td>400119</td>\n",
       "      <td>2021</td>\n",
       "      <td>HS</td>\n",
       "      <td>60624</td>\n",
       "      <td>85.5</td>\n",
       "      <td>48.9</td>\n",
       "      <td>85.5</td>\n",
       "    </tr>\n",
       "    <tr>\n",
       "      <th>455</th>\n",
       "      <td>652</td>\n",
       "      <td>609760</td>\n",
       "      <td>2021</td>\n",
       "      <td>HS</td>\n",
       "      <td>60827</td>\n",
       "      <td>92.4</td>\n",
       "      <td>64.0</td>\n",
       "      <td>92.4</td>\n",
       "    </tr>\n",
       "  </tbody>\n",
       "</table>\n",
       "<p>456 rows × 8 columns</p>\n",
       "</div>"
      ],
      "text/plain": [
       "     Unnamed: 0  School ID  Year Elementary, Middle, or High School  ZIP Code  \\\n",
       "0             8     609680  2011                                 HS     60610   \n",
       "1            15     609722  2011                                 HS     60612   \n",
       "2            17     609749  2011                                 HS     60625   \n",
       "3            28     610244  2011                                 HS     60644   \n",
       "4            30     610394  2011                                 HS     60640   \n",
       "..          ...        ...   ...                                ...       ...   \n",
       "451         641     609698  2021                                 HS     60652   \n",
       "452         642     609748  2021                                 HS     60608   \n",
       "453         646     400126  2021                                 HS     60651   \n",
       "454         651     400119  2021                                 HS     60624   \n",
       "455         652     609760  2021                                 HS     60827   \n",
       "\n",
       "     Average Student Attendance  College Enrollment Rate %  \\\n",
       "0                          93.4                       82.4   \n",
       "1                          66.8                       51.9   \n",
       "2                          95.7                       90.7   \n",
       "3                          79.1                       60.4   \n",
       "4                          88.7                       65.0   \n",
       "..                          ...                        ...   \n",
       "451                        85.9                       53.5   \n",
       "452                        73.7                        4.0   \n",
       "453                        59.7                       21.1   \n",
       "454                        85.5                       48.9   \n",
       "455                        92.4                       64.0   \n",
       "\n",
       "     Average Student Attendace  \n",
       "0                         93.4  \n",
       "1                         66.8  \n",
       "2                         95.7  \n",
       "3                         79.1  \n",
       "4                         88.7  \n",
       "..                         ...  \n",
       "451                       85.9  \n",
       "452                       73.7  \n",
       "453                       59.7  \n",
       "454                       85.5  \n",
       "455                       92.4  \n",
       "\n",
       "[456 rows x 8 columns]"
      ]
     },
     "execution_count": 5,
     "metadata": {},
     "output_type": "execute_result"
    }
   ],
   "source": [
    "# File to Load (Remember to Change These)\n",
    "file_to_load = \"cleaned_school_data.csv\"\n",
    "df = pd.read_csv(file_to_load)\n",
    "df\n"
   ]
  },
  {
   "cell_type": "code",
   "execution_count": 28,
   "metadata": {},
   "outputs": [],
   "source": [
    "#Group the school dataframe by year\n",
    "yeah_school_df = df.groupby(['Year'])\n",
    "#yeah_school_df = yeah_school_df[\"Average Student Attendance\",\"College Enrollment Rate %\"]"
   ]
  },
  {
   "cell_type": "code",
   "execution_count": 31,
   "metadata": {},
   "outputs": [],
   "source": [
    "#Calculate the mean of attendence and mean of college rate\n",
    "attendance = yeah_school_df[\"Average Student Attendance\"].mean()\n",
    "college_rate = yeah_school_df[\"College Enrollment Rate %\"].mean()"
   ]
  },
  {
   "cell_type": "code",
   "execution_count": 32,
   "metadata": {},
   "outputs": [
    {
     "data": {
      "text/html": [
       "<div>\n",
       "<style scoped>\n",
       "    .dataframe tbody tr th:only-of-type {\n",
       "        vertical-align: middle;\n",
       "    }\n",
       "\n",
       "    .dataframe tbody tr th {\n",
       "        vertical-align: top;\n",
       "    }\n",
       "\n",
       "    .dataframe thead th {\n",
       "        text-align: right;\n",
       "    }\n",
       "</style>\n",
       "<table border=\"1\" class=\"dataframe\">\n",
       "  <thead>\n",
       "    <tr style=\"text-align: right;\">\n",
       "      <th></th>\n",
       "      <th>attendance</th>\n",
       "      <th>college rate</th>\n",
       "    </tr>\n",
       "    <tr>\n",
       "      <th>Year</th>\n",
       "      <th></th>\n",
       "      <th></th>\n",
       "    </tr>\n",
       "  </thead>\n",
       "  <tbody>\n",
       "    <tr>\n",
       "      <th>2011</th>\n",
       "      <td>83.563441</td>\n",
       "      <td>57.092473</td>\n",
       "    </tr>\n",
       "    <tr>\n",
       "      <th>2015</th>\n",
       "      <td>88.771170</td>\n",
       "      <td>52.447872</td>\n",
       "    </tr>\n",
       "    <tr>\n",
       "      <th>2021</th>\n",
       "      <td>84.563486</td>\n",
       "      <td>57.145714</td>\n",
       "    </tr>\n",
       "  </tbody>\n",
       "</table>\n",
       "</div>"
      ],
      "text/plain": [
       "      attendance  college rate\n",
       "Year                          \n",
       "2011   83.563441     57.092473\n",
       "2015   88.771170     52.447872\n",
       "2021   84.563486     57.145714"
      ]
     },
     "execution_count": 32,
     "metadata": {},
     "output_type": "execute_result"
    }
   ],
   "source": [
    "#Create dataframe of mean attendence and mean college rate for 2011, 2015, and 2021\n",
    "rate_df = pd.DataFrame({\n",
    "    \"attendance\": attendance,\n",
    "    \"college rate\": college_rate\n",
    "})\n",
    "\n",
    "rate_df"
   ]
  },
  {
   "cell_type": "code",
   "execution_count": 33,
   "metadata": {},
   "outputs": [],
   "source": [
    "#Create x and y coordinates\n",
    "attend = df[\"Average Student Attendance\"]\n",
    "c_rate = df[\"College Enrollment Rate %\"]"
   ]
  },
  {
   "cell_type": "code",
   "execution_count": 34,
   "metadata": {},
   "outputs": [
    {
     "data": {
      "text/plain": [
       "Text(0, 0.5, 'rate')"
      ]
     },
     "execution_count": 34,
     "metadata": {},
     "output_type": "execute_result"
    },
    {
     "data": {
      "image/png": "[encoded data removed]",
      "text/plain": [
       "<Figure size 432x288 with 1 Axes>"
      ]
     },
     "metadata": {
      "needs_background": "light"
     },
     "output_type": "display_data"
    }
   ],
   "source": [
    "#Graph scatter polt\n",
    "plt.scatter(attend,c_rate,marker='o',alpha=0.75)\n",
    "plt.title(\"attendance vs college rate\")\n",
    "plt.xlabel('attendance')\n",
    "plt.ylabel('rate')"
   ]
  },
  {
   "cell_type": "code",
   "execution_count": 47,
   "metadata": {},
   "outputs": [
    {
     "data": {
      "image/png": "[encoded data removed]",
      "text/plain": [
       "<Figure size 1440x216 with 1 Axes>"
      ]
     },
     "metadata": {
      "needs_background": "light"
     },
     "output_type": "display_data"
    },
    {
     "data": {
      "text/plain": [
       "<Figure size 432x288 with 0 Axes>"
      ]
     },
     "metadata": {},
     "output_type": "display_data"
    }
   ],
   "source": [
    "#Create bar graphs of the attendence rate and college rate for each year\n",
    "rate_df.plot(kind=\"bar\",figsize=(20,3),)\n",
    "y = rate_df[\"college rate\"]\n",
    "plt.title(\"rates and attendance\")\n",
    "plt.ylabel(\"rate\")\n",
    "plt.xlabel(\"attendance\")\n",
    "plt.show()\n",
    "plt.tight_layout()"
   ]
  },
  {
   "cell_type": "code",
   "execution_count": null,
   "metadata": {},
   "outputs": [],
   "source": []
  }
 ],
 "metadata": {
  "interpreter": {
   "hash": "3067ead486e059ec00ffe7555bdb889e6e264a24dc711bf108106cc7baee8d5d"
  },
  "kernelspec": {
   "display_name": "Python 3 (ipykernel)",
   "language": "python",
   "name": "python3"
  },
  "language_info": {
   "codemirror_mode": {
    "name": "ipython",
    "version": 3
   },
   "file_extension": ".py",
   "mimetype": "text/x-python",
   "name": "python",
   "nbconvert_exporter": "python",
   "pygments_lexer": "ipython3",
   "version": "3.9.7"
  }
 },
 "nbformat": 4,
 "nbformat_minor": 2
}
