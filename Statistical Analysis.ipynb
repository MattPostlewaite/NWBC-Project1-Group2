{
 "cells": [
  {
   "cell_type": "code",
   "execution_count": 7,
   "id": "c3fcd521",
   "metadata": {},
   "outputs": [
    {
     "data": {
      "text/html": [
       "<div>\n",
       "<style scoped>\n",
       "    .dataframe tbody tr th:only-of-type {\n",
       "        vertical-align: middle;\n",
       "    }\n",
       "\n",
       "    .dataframe tbody tr th {\n",
       "        vertical-align: top;\n",
       "    }\n",
       "\n",
       "    .dataframe thead th {\n",
       "        text-align: right;\n",
       "    }\n",
       "</style>\n",
       "<table border=\"1\" class=\"dataframe\">\n",
       "  <thead>\n",
       "    <tr style=\"text-align: right;\">\n",
       "      <th></th>\n",
       "      <th>dogs</th>\n",
       "      <th>cats</th>\n",
       "    </tr>\n",
       "  </thead>\n",
       "  <tbody>\n",
       "    <tr>\n",
       "      <th>dogs</th>\n",
       "      <td>1.000000</td>\n",
       "      <td>-0.851064</td>\n",
       "    </tr>\n",
       "    <tr>\n",
       "      <th>cats</th>\n",
       "      <td>-0.851064</td>\n",
       "      <td>1.000000</td>\n",
       "    </tr>\n",
       "  </tbody>\n",
       "</table>\n",
       "</div>"
      ],
      "text/plain": [
       "          dogs      cats\n",
       "dogs  1.000000 -0.851064\n",
       "cats -0.851064  1.000000"
      ]
     },
     "execution_count": 7,
     "metadata": {},
     "output_type": "execute_result"
    }
   ],
   "source": [
    "# Dependencies and Setup\n",
    "import matplotlib.pyplot as plt\n",
    "import pandas as pd\n",
    "import scipy.stats as st\n",
    "from statsmodels.stats import weightstats as stests\n",
    "\n",
    "#coorilation test (pearson's r)\n",
    "df = pd.DataFrame([(.2, .3), (.0, .6), (.6, .0), (.2, .1)],\n",
    "                  columns=['dogs', 'cats'])\n",
    "\n",
    "df.corr(method = \"pearson\")\n",
    "\n",
    "# do this with the variables (academic success, general crime) X (college enrollment rate)\n"
   ]
  },
  {
   "cell_type": "code",
   "execution_count": null,
   "id": "fa44ffab",
   "metadata": {},
   "outputs": [],
   "source": [
    "# Z test will adress question: \"Is there a difference in academic success out comes for zip codes which experience \n",
    "# violent crimes v.s. general population crime rate?\"\n",
    "\n",
    "#info we need \n",
    "# sample mean - average college enrolment rate in areas experinecing high crime rate\n",
    "# population mean - average enrolment rate in all areas (experienceing all types of crimes)\n",
    "# number of data points in sample\n",
    "#SE\n",
    "\n",
    "standard_error = population_std_dev / np.sqrt(n)\n",
    "\n",
    "z_score = (violent_crimes_sample_mean - All_crimes_population_mean)/standard_error\n",
    "\n",
    "#find p-value for two-tailed test\n",
    "pval = scipy.stats.norm.sf(abs(z_score))*2\n",
    "\n",
    "if pval<0.05:\n",
    "    print(\"reject null hypothesis\")\n",
    "else:\n",
    "    print(\"accept null hypothesis\")"
   ]
  },
  {
   "cell_type": "code",
   "execution_count": null,
   "id": "995e14f7",
   "metadata": {},
   "outputs": [],
   "source": []
  }
 ],
 "metadata": {
  "kernelspec": {
   "display_name": "Python 3 (ipykernel)",
   "language": "python",
   "name": "python3"
  },
  "language_info": {
   "codemirror_mode": {
    "name": "ipython",
    "version": 3
   },
   "file_extension": ".py",
   "mimetype": "text/x-python",
   "name": "python",
   "nbconvert_exporter": "python",
   "pygments_lexer": "ipython3",
   "version": "3.9.7"
  }
 },
 "nbformat": 4,
 "nbformat_minor": 5
}
